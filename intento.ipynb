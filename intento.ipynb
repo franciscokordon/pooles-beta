{
 "cells": [
  {
   "cell_type": "markdown",
   "metadata": {},
   "source": [
    "# Intento de ploteo amigable"
   ]
  },
  {
   "cell_type": "markdown",
   "metadata": {},
   "source": [
    "Pooleo con dos métodos, por ahora."
   ]
  },
  {
   "cell_type": "code",
   "execution_count": 21,
   "metadata": {},
   "outputs": [
    {
     "name": "stdout",
     "output_type": "stream",
     "text": [
      "Defaulting to user installation because normal site-packages is not writeable\n",
      "Requirement already satisfied: matplotlib in /home/francisco/.local/lib/python3.6/site-packages (3.2.1)\n",
      "Requirement already satisfied: numpy in /home/francisco/.local/lib/python3.6/site-packages (1.18.4)\n",
      "Requirement already satisfied: python-dateutil>=2.1 in /usr/lib/python3/dist-packages (from matplotlib) (2.6.1)\n",
      "Requirement already satisfied: kiwisolver>=1.0.1 in /home/francisco/.local/lib/python3.6/site-packages (from matplotlib) (1.2.0)\n",
      "Requirement already satisfied: cycler>=0.10 in /home/francisco/.local/lib/python3.6/site-packages (from matplotlib) (0.10.0)\n",
      "Requirement already satisfied: pyparsing!=2.0.4,!=2.1.2,!=2.1.6,>=2.0.1 in /home/francisco/.local/lib/python3.6/site-packages (from matplotlib) (2.4.7)\n",
      "Requirement already satisfied: six in /usr/lib/python3/dist-packages (from cycler>=0.10->matplotlib) (1.11.0)\n"
     ]
    }
   ],
   "source": [
    "!pip install matplotlib numpy\n",
    "import matplotlib.pyplot as plt\n",
    "import numpy as np\n",
    "%config InlineBackend.close_figures = False\n",
    "\n",
    "def plot(N1D,N2D) :\n",
    "    p = np.arange(0.001, .03, .001)\n",
    "    multi1d = 1/(1/N1D + (1-(1-p)**N1D))\n",
    "    multi2d = 1/(2/N2D +1 - 2*(1-p)**N2D + (1-p)**(2*N2D-1))\n",
    "    \n",
    "    fig, ax = plt.subplots()\n",
    "    ax.plot(p*100, multi1d, label='1D con tamaño '+str(N1D))\n",
    "    ax.plot(p*100, multi2d, label='2D con tamaño '+str(N2D))\n",
    "    \n",
    "    ax.set(xlabel='Prevalencia (%)', ylabel='Multiplicador',\n",
    "           title='Efecto multiplicador del pooleo con métodos 1D y 2D ')\n",
    "    ax.set_xscale('log')\n",
    "    ax.set_xticks([.1,.2,.3,.4,.5,.75,1,2,3])\n",
    "    ax.set_yticks(np.arange(32))\n",
    "    \n",
    "    ax.grid(True, linestyle='-.')\n",
    "    ax.legend()\n",
    "    return\n",
    "    \n",
    "from __future__ import print_function\n",
    "from ipywidgets import interact, interactive, fixed, interact_manual\n",
    "import ipywidgets as widgets\n",
    "\n",
    "interact(plot, N1D=(30,40), N2D=(35,37));\n"
   ]
  },
  {
   "cell_type": "code",
   "execution_count": 7,
   "metadata": {},
   "outputs": [],
   "source": []
  },
  {
   "cell_type": "code",
   "execution_count": 17,
   "metadata": {},
   "outputs": [],
   "source": []
  },
  {
   "cell_type": "code",
   "execution_count": 20,
   "metadata": {},
   "outputs": [
    {
     "data": {
      "text/plain": [
       "8.0"
      ]
     },
     "metadata": {},
     "output_type": "display_data"
    }
   ],
   "source": [
    "interact(f, x=(0.0,10.0));"
   ]
  },
  {
   "cell_type": "code",
   "execution_count": 15,
   "metadata": {},
   "outputs": [
    {
     "data": {
      "text/plain": [
       "(True, 1.0)"
      ]
     },
     "metadata": {},
     "output_type": "display_data"
    }
   ],
   "source": [
    "@interact(x=True, y=1.0)\n",
    "def g(x, y):\n",
    "    return (x, y)"
   ]
  },
  {
   "cell_type": "code",
   "execution_count": 16,
   "metadata": {},
   "outputs": [],
   "source": []
  },
  {
   "cell_type": "code",
   "execution_count": null,
   "metadata": {},
   "outputs": [],
   "source": []
  }
 ],
 "metadata": {
  "kernelspec": {
   "display_name": "Python 3",
   "language": "python",
   "name": "python3"
  },
  "language_info": {
   "codemirror_mode": {
    "name": "ipython",
    "version": 3
   },
   "file_extension": ".py",
   "mimetype": "text/x-python",
   "name": "python",
   "nbconvert_exporter": "python",
   "pygments_lexer": "ipython3",
   "version": "3.6.9"
  }
 },
 "nbformat": 4,
 "nbformat_minor": 2
}
